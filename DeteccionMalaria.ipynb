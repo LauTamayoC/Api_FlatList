{
  "cells": [
    {
      "cell_type": "markdown",
      "metadata": {
        "id": "view-in-github",
        "colab_type": "text"
      },
      "source": [
        "<a href=\"https://colab.research.google.com/github/LauTamayoC/Api_FlatList/blob/master/DeteccionMalaria.ipynb\" target=\"_parent\"><img src=\"https://colab.research.google.com/assets/colab-badge.svg\" alt=\"Open In Colab\"/></a>"
      ]
    },
    {
      "cell_type": "code",
      "execution_count": null,
      "metadata": {
        "id": "tw3_vRdKv-Fu"
      },
      "outputs": [],
      "source": [
        "import os\n",
        "os.environ['KAGGLE_USERNAME'] = \"lautamayito\"\n",
        "os.environ['KAGGLE_KEY'] = \"dad204d51812145e7c59a4f19e65de51\"\n"
      ]
    },
    {
      "cell_type": "code",
      "execution_count": null,
      "metadata": {
        "colab": {
          "base_uri": "https://localhost:8080/"
        },
        "id": "XPunCmH8zr5k",
        "outputId": "d3cb856c-5a3d-40cf-b7fc-19b45f23c802"
      },
      "outputs": [
        {
          "output_type": "stream",
          "name": "stdout",
          "text": [
            "cp: cannot stat 'kaggle.json': No such file or directory\n",
            "chmod: cannot access '/root/.kaggle/kaggle.json': No such file or directory\n"
          ]
        }
      ],
      "source": [
        "!pip install -q kaggle\n",
        "!mkdir -p ~/.kaggle\n",
        "!cp kaggle.json ~/.kaggle/\n",
        "!chmod 600 ~/.kaggle/kaggle.json\n"
      ]
    },
    {
      "cell_type": "code",
      "execution_count": null,
      "metadata": {
        "colab": {
          "base_uri": "https://localhost:8080/"
        },
        "id": "uxhRQ7Klzvfv",
        "outputId": "3efb14e0-3052-446d-ba73-bf72c1ae5193"
      },
      "outputs": [
        {
          "name": "stdout",
          "output_type": "stream",
          "text": [
            "Dataset URL: https://www.kaggle.com/datasets/iarunava/cell-images-for-detecting-malaria\n",
            "License(s): unknown\n",
            "Downloading cell-images-for-detecting-malaria.zip to /content\n",
            " 98% 663M/675M [00:09<00:00, 94.7MB/s]\n",
            "100% 675M/675M [00:09<00:00, 72.0MB/s]\n"
          ]
        }
      ],
      "source": [
        "!kaggle datasets download -d iarunava/cell-images-for-detecting-malaria\n"
      ]
    },
    {
      "cell_type": "code",
      "execution_count": null,
      "metadata": {
        "id": "HaIvHbeh0Jdk"
      },
      "outputs": [],
      "source": [
        "import zipfile\n",
        "with zipfile.ZipFile('cell-images-for-detecting-malaria.zip', 'r') as zip_ref:\n",
        "    zip_ref.extractall('Malaria_Cell_Images_Dataset')\n"
      ]
    },
    {
      "cell_type": "code",
      "execution_count": null,
      "metadata": {
        "colab": {
          "base_uri": "https://localhost:8080/"
        },
        "id": "2CjIDiRV1G1n",
        "outputId": "584ca6dc-9d77-47cc-cc29-97255001640f"
      },
      "outputs": [
        {
          "name": "stdout",
          "output_type": "stream",
          "text": [
            "['cell_images']\n"
          ]
        }
      ],
      "source": [
        "data_dir = 'Malaria_Cell_Images_Dataset'\n",
        "# Listar los archivos en el directorio\n",
        "print(os.listdir(data_dir))"
      ]
    },
    {
      "cell_type": "code",
      "execution_count": null,
      "metadata": {
        "colab": {
          "base_uri": "https://localhost:8080/"
        },
        "id": "Uy4Zn2zv1apP",
        "outputId": "589721ee-f61a-4f1f-92c7-501d6d2fb8cc"
      },
      "outputs": [
        {
          "name": "stdout",
          "output_type": "stream",
          "text": [
            "No se pudo cargar la imagen Malaria_Cell_Images_Dataset/cell_images/Parasitized/Thumbs.db.\n",
            "No se pudo cargar la imagen Malaria_Cell_Images_Dataset/cell_images/Uninfected/Thumbs.db.\n",
            "Dimensiones de las imágenes: (27558, 64, 64, 3)\n",
            "Dimensiones de las etiquetas: (27558,)\n"
          ]
        }
      ],
      "source": [
        "import cv2\n",
        "import os\n",
        "import numpy as np\n",
        "\n",
        "# Definir la ruta del directorio\n",
        "data_dir = 'Malaria_Cell_Images_Dataset/cell_images'\n",
        "\n",
        "# Inicializar listas para almacenar imágenes y etiquetas\n",
        "images = []\n",
        "labels = []\n",
        "\n",
        "# Función para cargar y preprocesar imágenes\n",
        "def load_images(image_list, label):\n",
        "    for image_name in image_list:\n",
        "        image_path = os.path.join(data_dir, label, image_name)\n",
        "        image = cv2.imread(image_path)\n",
        "        if image is not None:  # Verificar si la imagen se cargó correctamente\n",
        "            if not image.size == 0:  # Verificar si la imagen no está vacía\n",
        "                image = cv2.resize(image, (64, 64))  # Redimensionar todas las imágenes a 64x64 píxeles\n",
        "                image = cv2.cvtColor(image, cv2.COLOR_BGR2RGB)  # Convertir las imágenes a formato RGB\n",
        "                images.append(image)\n",
        "                labels.append(label)\n",
        "            else:\n",
        "                print(f\"La imagen {image_path} está vacía.\")\n",
        "        else:\n",
        "            print(f\"No se pudo cargar la imagen {image_path}.\")\n",
        "\n",
        "\n",
        "# Cargar imágenes parasitadas\n",
        "load_images(os.listdir(os.path.join(data_dir, 'Parasitized')), 'Parasitized')\n",
        "\n",
        "# Cargar imágenes no infectadas\n",
        "load_images(os.listdir(os.path.join(data_dir, 'Uninfected')), 'Uninfected')\n",
        "\n",
        "# Convertir las listas de imágenes y etiquetas a matrices NumPy\n",
        "images = np.array(images)\n",
        "labels = np.array(labels)\n",
        "\n",
        "# Verificar las dimensiones de las matrices\n",
        "print(\"Dimensiones de las imágenes:\", images.shape)\n",
        "print(\"Dimensiones de las etiquetas:\", labels.shape)\n",
        "\n"
      ]
    },
    {
      "cell_type": "code",
      "execution_count": null,
      "metadata": {
        "colab": {
          "base_uri": "https://localhost:8080/"
        },
        "id": "nIEyq_ac3Yq1",
        "outputId": "42536e9d-222f-40a3-a1c5-876133d02110"
      },
      "outputs": [
        {
          "name": "stdout",
          "output_type": "stream",
          "text": [
            "Ruta de la primera imagen parasitada: Malaria_Cell_Images_Dataset/cell_images/Parasitized/C183P144NThinF_IMG_20151201_222917_cell_150.png\n",
            "Ruta de la primera imagen no infectada: Malaria_Cell_Images_Dataset/cell_images/Uninfected/C241NThinF_IMG_20151207_124608_cell_125.png\n"
          ]
        }
      ],
      "source": [
        "print(\"Ruta de la primera imagen parasitada:\", os.path.join(data_dir, 'Parasitized', os.listdir(os.path.join(data_dir, 'Parasitized'))[0]))\n",
        "print(\"Ruta de la primera imagen no infectada:\", os.path.join(data_dir, 'Uninfected', os.listdir(os.path.join(data_dir, 'Uninfected'))[0]))\n"
      ]
    },
    {
      "cell_type": "code",
      "execution_count": null,
      "metadata": {
        "colab": {
          "base_uri": "https://localhost:8080/"
        },
        "id": "kP01NWhy3fvY",
        "outputId": "a77a0065-d984-47a6-e8c3-604f58b5b2ca"
      },
      "outputs": [
        {
          "name": "stdout",
          "output_type": "stream",
          "text": [
            "La imagen se cargó correctamente.\n"
          ]
        }
      ],
      "source": [
        "# Ruta de la primera imagen parasitada\n",
        "image_path = os.path.join(data_dir, 'Parasitized', os.listdir(os.path.join(data_dir, 'Parasitized'))[0])\n",
        "\n",
        "# Intentar cargar la imagen con OpenCV\n",
        "image = cv2.imread(image_path)\n",
        "\n",
        "# Verificar si la imagen se cargó correctamente\n",
        "if image is None:\n",
        "    print(\"No se pudo cargar la imagen.\")\n",
        "else:\n",
        "    print(\"La imagen se cargó correctamente.\")\n"
      ]
    },
    {
      "cell_type": "markdown",
      "metadata": {
        "id": "X-oRsEo1VRq8"
      },
      "source": [
        "##DIVISIÓN DEL CONJUNTO DE DATOS"
      ]
    },
    {
      "cell_type": "code",
      "execution_count": null,
      "metadata": {
        "colab": {
          "base_uri": "https://localhost:8080/"
        },
        "id": "cNP65LMcVIRX",
        "outputId": "5f822e88-8d2b-48d5-c399-3f528da7ecf4"
      },
      "outputs": [
        {
          "name": "stdout",
          "output_type": "stream",
          "text": [
            "Conjunto de entrenamiento: (16534, 64, 64, 3), (16534,)\n",
            "Conjunto de validación: (5512, 64, 64, 3), (5512,)\n",
            "Conjunto de prueba: (5512, 64, 64, 3), (5512,)\n"
          ]
        }
      ],
      "source": [
        "from sklearn.model_selection import train_test_split\n",
        "\n",
        "# Convertir etiquetas a valores binarios\n",
        "labels = np.where(labels == 'Parasitized', 1, 0)\n",
        "\n",
        "# Dividir en conjuntos de entrenamiento y prueba\n",
        "X_train, X_test, y_train, y_test = train_test_split(images, labels, test_size=0.2, random_state=42)\n",
        "X_train, X_val, y_train, y_val = train_test_split(X_train, y_train, test_size=0.25, random_state=42)\n",
        "\n",
        "print(f\"Conjunto de entrenamiento: {X_train.shape}, {y_train.shape}\")\n",
        "print(f\"Conjunto de validación: {X_val.shape}, {y_val.shape}\")\n",
        "print(f\"Conjunto de prueba: {X_test.shape}, {y_test.shape}\")\n"
      ]
    },
    {
      "cell_type": "markdown",
      "metadata": {
        "id": "SdDpudxtVXC-"
      },
      "source": [
        "##PREPARACION DE LOS DATOS"
      ]
    },
    {
      "cell_type": "code",
      "execution_count": null,
      "metadata": {
        "id": "Wm0xtOizVdRJ"
      },
      "outputs": [],
      "source": [
        "X_train = X_train / 255.0\n",
        "X_val = X_val / 255.0\n",
        "X_test = X_test / 255.0\n"
      ]
    },
    {
      "cell_type": "code",
      "execution_count": null,
      "metadata": {
        "colab": {
          "base_uri": "https://localhost:8080/",
          "height": 367
        },
        "id": "GhKleGgi2NTU",
        "outputId": "18439e4f-23a3-4405-f509-69569d049460"
      },
      "outputs": [
        {
          "data": {
            "image/png": "[encoded data removed]",
            "text/plain": [
              "<Figure size 1000x1000 with 5 Axes>"
            ]
          },
          "metadata": {},
          "output_type": "display_data"
        },
        {
          "data": {
            "image/png": "[encoded data removed]",
            "text/plain": [
              "<Figure size 1000x1000 with 5 Axes>"
            ]
          },
          "metadata": {},
          "output_type": "display_data"
        }
      ],
      "source": [
        "import matplotlib.pyplot as plt\n",
        "\n",
        "# Función para mostrar imágenes\n",
        "def show_images(images, labels, num=5):\n",
        "    plt.figure(figsize=(10, 10))\n",
        "    for i in range(num):\n",
        "        plt.subplot(1, num, i + 1)\n",
        "        plt.imshow(images[i])\n",
        "        plt.title('Parasitized' if labels[i] == 1 else 'Uninfected')\n",
        "        plt.axis('off')\n",
        "    plt.show()\n",
        "\n",
        "# Mostrar algunas imágenes parasitadas\n",
        "parasitized_indices = np.where(labels == 1)[0]\n",
        "show_images(images[parasitized_indices], labels[parasitized_indices], num=5)\n",
        "\n",
        "# Mostrar algunas imágenes no infectadas\n",
        "uninfected_indices = np.where(labels == 0)[0]\n",
        "show_images(images[uninfected_indices], labels[uninfected_indices], num=5)\n"
      ]
    },
    {
      "cell_type": "markdown",
      "metadata": {
        "id": "Y2Nl0m59Vjbj"
      },
      "source": [
        "##MODELO CON TRANSFER LEARNING"
      ]
    },
    {
      "cell_type": "code",
      "execution_count": null,
      "metadata": {
        "colab": {
          "base_uri": "https://localhost:8080/"
        },
        "id": "aciw70hrVmnS",
        "outputId": "90eeb9c0-ca80-46df-ef30-df9c295ddc75"
      },
      "outputs": [
        {
          "name": "stdout",
          "output_type": "stream",
          "text": [
            "Downloading data from https://storage.googleapis.com/tensorflow/keras-applications/vgg16/vgg16_weights_tf_dim_ordering_tf_kernels_notop.h5\n",
            "58889256/58889256 [==============================] - 0s 0us/step\n",
            "Model: \"model\"\n",
            "_________________________________________________________________\n",
            " Layer (type)                Output Shape              Param #   \n",
            "=================================================================\n",
            " input_1 (InputLayer)        [(None, 64, 64, 3)]       0         \n",
            "                                                                 \n",
            " block1_conv1 (Conv2D)       (None, 64, 64, 64)        1792      \n",
            "                                                                 \n",
            " block1_conv2 (Conv2D)       (None, 64, 64, 64)        36928     \n",
            "                                                                 \n",
            " block1_pool (MaxPooling2D)  (None, 32, 32, 64)        0         \n",
            "                                                                 \n",
            " block2_conv1 (Conv2D)       (None, 32, 32, 128)       73856     \n",
            "                                                                 \n",
            " block2_conv2 (Conv2D)       (None, 32, 32, 128)       147584    \n",
            "                                                                 \n",
            " block2_pool (MaxPooling2D)  (None, 16, 16, 128)       0         \n",
            "                                                                 \n",
            " block3_conv1 (Conv2D)       (None, 16, 16, 256)       295168    \n",
            "                                                                 \n",
            " block3_conv2 (Conv2D)       (None, 16, 16, 256)       590080    \n",
            "                                                                 \n",
            " block3_conv3 (Conv2D)       (None, 16, 16, 256)       590080    \n",
            "                                                                 \n",
            " block3_pool (MaxPooling2D)  (None, 8, 8, 256)         0         \n",
            "                                                                 \n",
            " block4_conv1 (Conv2D)       (None, 8, 8, 512)         1180160   \n",
            "                                                                 \n",
            " block4_conv2 (Conv2D)       (None, 8, 8, 512)         2359808   \n",
            "                                                                 \n",
            " block4_conv3 (Conv2D)       (None, 8, 8, 512)         2359808   \n",
            "                                                                 \n",
            " block4_pool (MaxPooling2D)  (None, 4, 4, 512)         0         \n",
            "                                                                 \n",
            " block5_conv1 (Conv2D)       (None, 4, 4, 512)         2359808   \n",
            "                                                                 \n",
            " block5_conv2 (Conv2D)       (None, 4, 4, 512)         2359808   \n",
            "                                                                 \n",
            " block5_conv3 (Conv2D)       (None, 4, 4, 512)         2359808   \n",
            "                                                                 \n",
            " block5_pool (MaxPooling2D)  (None, 2, 2, 512)         0         \n",
            "                                                                 \n",
            " global_average_pooling2d (  (None, 512)               0         \n",
            " GlobalAveragePooling2D)                                         \n",
            "                                                                 \n",
            " dense (Dense)               (None, 1024)              525312    \n",
            "                                                                 \n",
            " dropout (Dropout)           (None, 1024)              0         \n",
            "                                                                 \n",
            " dense_1 (Dense)             (None, 1)                 1025      \n",
            "                                                                 \n",
            "=================================================================\n",
            "Total params: 15241025 (58.14 MB)\n",
            "Trainable params: 526337 (2.01 MB)\n",
            "Non-trainable params: 14714688 (56.13 MB)\n",
            "_________________________________________________________________\n"
          ]
        }
      ],
      "source": [
        "import tensorflow as tf\n",
        "from tensorflow.keras.applications import VGG16\n",
        "from tensorflow.keras.models import Model\n",
        "from tensorflow.keras.layers import Dense, GlobalAveragePooling2D, Dropout\n",
        "from tensorflow.keras.optimizers import Adam\n",
        "\n",
        "# Cargar el modelo preentrenado VGG16 sin la parte superior (top)\n",
        "base_model = VGG16(weights='imagenet', include_top=False, input_shape=(64, 64, 3))\n",
        "\n",
        "# Añado capas\n",
        "x = base_model.output\n",
        "x = GlobalAveragePooling2D()(x)\n",
        "x = Dense(1024, activation='relu')(x)\n",
        "x = Dropout(0.5)(x)  # Dropout para prevenir sobreajuste\n",
        "predictions = Dense(1, activation='sigmoid')(x)\n",
        "\n",
        "# Crear el modelo final\n",
        "model = Model(inputs=base_model.input, outputs=predictions)\n",
        "\n",
        "# Congelar las capas de la base del modelo\n",
        "for layer in base_model.layers:\n",
        "    layer.trainable = False\n",
        "\n",
        "# Compilar el modelo\n",
        "model.compile(optimizer=Adam(learning_rate=0.0001), loss='binary_crossentropy', metrics=['accuracy'])\n",
        "\n",
        "# Resumen del modelo\n",
        "model.summary()\n"
      ]
    },
    {
      "cell_type": "code",
      "execution_count": null,
      "metadata": {
        "colab": {
          "background_save": true,
          "base_uri": "https://localhost:8080/"
        },
        "id": "5f5xxA7kn-ic",
        "outputId": "616ab2d2-36b9-496e-bd40-f5038da2a0f6"
      },
      "outputs": [
        {
          "name": "stdout",
          "output_type": "stream",
          "text": [
            "Epoch 1/100\n",
            "517/517 [==============================] - 996s 2s/step - loss: 0.2865 - accuracy: 0.8850 - val_loss: 0.2509 - val_accuracy: 0.9002\n",
            "Epoch 2/100\n",
            "517/517 [==============================] - 960s 2s/step - loss: 0.2525 - accuracy: 0.9002 - val_loss: 0.2289 - val_accuracy: 0.9084\n",
            "Epoch 3/100\n",
            "517/517 [==============================] - 967s 2s/step - loss: 0.2338 - accuracy: 0.9091 - val_loss: 0.2212 - val_accuracy: 0.9193\n",
            "Epoch 4/100\n",
            "517/517 [==============================] - 950s 2s/step - loss: 0.2220 - accuracy: 0.9147 - val_loss: 0.2095 - val_accuracy: 0.9204\n",
            "Epoch 5/100\n",
            "517/517 [==============================] - 954s 2s/step - loss: 0.2148 - accuracy: 0.9168 - val_loss: 0.2019 - val_accuracy: 0.9234\n",
            "Epoch 6/100\n",
            "517/517 [==============================] - 944s 2s/step - loss: 0.2072 - accuracy: 0.9206 - val_loss: 0.1978 - val_accuracy: 0.9269\n",
            "Epoch 7/100\n",
            "517/517 [==============================] - 951s 2s/step - loss: 0.2015 - accuracy: 0.9223 - val_loss: 0.1950 - val_accuracy: 0.9276\n",
            "Epoch 8/100\n",
            "517/517 [==============================] - 952s 2s/step - loss: 0.1952 - accuracy: 0.9251 - val_loss: 0.1970 - val_accuracy: 0.9274\n",
            "Epoch 9/100\n",
            "517/517 [==============================] - 968s 2s/step - loss: 0.1919 - accuracy: 0.9271 - val_loss: 0.1891 - val_accuracy: 0.9298\n",
            "Epoch 10/100\n",
            "517/517 [==============================] - 936s 2s/step - loss: 0.1895 - accuracy: 0.9273 - val_loss: 0.1876 - val_accuracy: 0.9351\n",
            "Epoch 11/100\n",
            "517/517 [==============================] - 948s 2s/step - loss: 0.1864 - accuracy: 0.9294 - val_loss: 0.1855 - val_accuracy: 0.9331\n",
            "Epoch 12/100\n",
            "198/517 [==========>...................] - ETA: 6:59 - loss: 0.1914 - accuracy: 0.9280"
          ]
        }
      ],
      "source": [
        "model.fit(\n",
        "    X_train, y_train,\n",
        "    validation_data=(X_val, y_val),\n",
        "    epochs=100,\n",
        "    batch_size=32\n",
        ")\n",
        "# Evaluar el modelo en el conjunto de prueba independiente\n",
        "test_loss, test_accuracy = model.evaluate(X_test, y_test)\n",
        "print(f'Test Accuracy: {test_accuracy}')\n",
        "print(f'Test Loss: {test_loss}')\n"
      ]
    },
    {
      "cell_type": "markdown",
      "metadata": {
        "id": "tZiZ-LGoV0mu"
      },
      "source": [
        "##ENTRENAMIENTO DEL MODELO"
      ]
    },
    {
      "cell_type": "code",
      "execution_count": null,
      "metadata": {
        "colab": {
          "base_uri": "https://localhost:8080/"
        },
        "id": "oXhB6gysV3T-",
        "outputId": "fbb78afb-177b-4899-e03e-f535674239d7"
      },
      "outputs": [
        {
          "name": "stdout",
          "output_type": "stream",
          "text": [
            "Epoch 1/100\n",
            "516/517 [============================>.] - ETA: 0s - loss: 5.2660e-20 - accuracy: 1.0000\n",
            "Epoch 1: val_accuracy improved from -inf to 1.00000, saving model to best_model.h5\n",
            "517/517 [==============================] - 16s 31ms/step - loss: 5.2590e-20 - accuracy: 1.0000 - val_loss: 1.5177e-24 - val_accuracy: 1.0000\n",
            "Epoch 2/100\n",
            "516/517 [============================>.] - ETA: 0s - loss: 2.3506e-20 - accuracy: 1.0000\n",
            "Epoch 2: val_accuracy did not improve from 1.00000\n",
            "517/517 [==============================] - 15s 29ms/step - loss: 2.3476e-20 - accuracy: 1.0000 - val_loss: 1.5177e-24 - val_accuracy: 1.0000\n",
            "Epoch 3/100\n",
            "515/517 [============================>.] - ETA: 0s - loss: 3.2831e-20 - accuracy: 1.0000\n",
            "Epoch 3: val_accuracy did not improve from 1.00000\n",
            "517/517 [==============================] - 15s 28ms/step - loss: 3.2726e-20 - accuracy: 1.0000 - val_loss: 1.5177e-24 - val_accuracy: 1.0000\n",
            "Epoch 4/100\n",
            "516/517 [============================>.] - ETA: 0s - loss: 1.5195e-20 - accuracy: 1.0000\n",
            "Epoch 4: val_accuracy did not improve from 1.00000\n",
            "517/517 [==============================] - 15s 29ms/step - loss: 1.5175e-20 - accuracy: 1.0000 - val_loss: 1.5177e-24 - val_accuracy: 1.0000\n",
            "Epoch 5/100\n",
            "517/517 [==============================] - ETA: 0s - loss: 2.7329e-20 - accuracy: 1.0000\n",
            "Epoch 5: val_accuracy did not improve from 1.00000\n",
            "517/517 [==============================] - 15s 29ms/step - loss: 2.7329e-20 - accuracy: 1.0000 - val_loss: 1.5177e-24 - val_accuracy: 1.0000\n",
            "Epoch 6/100\n",
            "515/517 [============================>.] - ETA: 0s - loss: 1.7802e-20 - accuracy: 1.0000\n",
            "Epoch 6: val_accuracy did not improve from 1.00000\n",
            "517/517 [==============================] - 15s 29ms/step - loss: 1.7744e-20 - accuracy: 1.0000 - val_loss: 1.5177e-24 - val_accuracy: 1.0000\n",
            "Epoch 6: early stopping\n",
            "173/173 [==============================] - 3s 15ms/step - loss: 1.7938e-24 - accuracy: 1.0000\n",
            "Test Accuracy: 1.0\n",
            "Test Loss: 1.7938424827713507e-24\n"
          ]
        }
      ],
      "source": [
        "from tensorflow.keras.callbacks import ModelCheckpoint, EarlyStopping\n",
        "\n",
        "# Callbacks para guardar el mejor modelo y detener el entrenamiento temprano si no hay mejoras\n",
        "checkpoint = ModelCheckpoint('best_model.h5', monitor='val_accuracy', save_best_only=True, mode='max', verbose=1)\n",
        "early_stopping = EarlyStopping(monitor='val_accuracy', patience=5, mode='max', verbose=1)\n",
        "\n",
        "# Entrenar el modelo\n",
        "history = model.fit(\n",
        "    X_train, y_train,\n",
        "    validation_data=(X_val, y_val),\n",
        "    epochs=100,\n",
        "    batch_size=32,\n",
        "    callbacks=[checkpoint, early_stopping]\n",
        ")\n",
        "\n",
        "test_loss, test_accuracy = model.evaluate(X_test, y_test)\n",
        "print(f'Test Accuracy: {test_accuracy}')\n",
        "print(f'Test Loss: {test_loss}')\n"
      ]
    },
    {
      "cell_type": "markdown",
      "metadata": {
        "id": "JVoRe1Ej6iWP"
      },
      "source": [
        "##Tratando de eliminar el sobreajuste"
      ]
    },
    {
      "cell_type": "code",
      "execution_count": null,
      "metadata": {
        "colab": {
          "base_uri": "https://localhost:8080/"
        },
        "id": "t1sWNPwM9TnP",
        "outputId": "d0b6bbc4-0f11-423f-9fd9-8a6d09836207"
      },
      "outputs": [
        {
          "name": "stdout",
          "output_type": "stream",
          "text": [
            "No se pudo cargar la imagen Malaria_Cell_Images_Dataset/cell_images/Parasitized/Thumbs.db.\n",
            "No se pudo cargar la imagen Malaria_Cell_Images_Dataset/cell_images/Uninfected/Thumbs.db.\n",
            "Dimensiones de las imágenes de entrenamiento: (19290, 64, 64, 3)\n",
            "Dimensiones de las etiquetas de entrenamiento: (19290,)\n",
            "Dimensiones de las imágenes de validación: (5539, 64, 64, 3)\n",
            "Dimensiones de las etiquetas de validación: (5539,)\n",
            "Dimensiones de las imágenes de prueba: (2729, 64, 64, 3)\n",
            "Dimensiones de las etiquetas de prueba: (2729,)\n"
          ]
        }
      ],
      "source": [
        "import cv2\n",
        "import os\n",
        "import numpy as np\n",
        "from sklearn.model_selection import train_test_split\n",
        "import matplotlib.pyplot as plt\n",
        "\n",
        "# Definir la ruta del directorio\n",
        "data_dir = 'Malaria_Cell_Images_Dataset/cell_images'\n",
        "\n",
        "# Inicializar listas para almacenar imágenes y etiquetas\n",
        "images = []\n",
        "labels = []\n",
        "\n",
        "# Función para cargar y preprocesar imágenes\n",
        "def load_images(image_list, label):\n",
        "    for image_name in image_list:\n",
        "        image_path = os.path.join(data_dir, label, image_name)\n",
        "        image = cv2.imread(image_path)\n",
        "        if image is not None:  # Verificar si la imagen se cargó correctamente\n",
        "            if not image.size == 0:  # Verificar si la imagen no está vacía\n",
        "                image = cv2.resize(image, (64, 64))  # Redimensionar todas las imágenes a 64x64 píxeles\n",
        "                image = cv2.cvtColor(image, cv2.COLOR_BGR2RGB)  # Convertir las imágenes a formato RGB\n",
        "                images.append(image)\n",
        "                labels.append(1 if label == 'Parasitized' else 0)\n",
        "            else:\n",
        "                print(f\"La imagen {image_path} está vacía.\")\n",
        "        else:\n",
        "            print(f\"No se pudo cargar la imagen {image_path}.\")\n",
        "\n",
        "# Cargar imágenes parasitadas y no infectadas\n",
        "load_images(os.listdir(os.path.join(data_dir, 'Parasitized')), 'Parasitized')\n",
        "load_images(os.listdir(os.path.join(data_dir, 'Uninfected')), 'Uninfected')\n",
        "\n",
        "# Convertir las listas de imágenes y etiquetas a matrices NumPy\n",
        "images = np.array(images)\n",
        "labels = np.array(labels)\n",
        "\n",
        "# Normalización de las imágenes\n",
        "images = images / 255.0\n",
        "\n",
        "# División del conjunto de datos en entrenamiento, validación y prueba\n",
        "X_train, X_temp, y_train, y_temp = train_test_split(images, labels, test_size=0.3, random_state=42, stratify=labels)\n",
        "X_val, X_test, y_val, y_test = train_test_split(X_temp, y_temp, test_size=0.33, random_state=42, stratify=y_temp)\n",
        "\n",
        "# Verificar las dimensiones de las matrices\n",
        "print(\"Dimensiones de las imágenes de entrenamiento:\", X_train.shape)\n",
        "print(\"Dimensiones de las etiquetas de entrenamiento:\", y_train.shape)\n",
        "print(\"Dimensiones de las imágenes de validación:\", X_val.shape)\n",
        "print(\"Dimensiones de las etiquetas de validación:\", y_val.shape)\n",
        "print(\"Dimensiones de las imágenes de prueba:\", X_test.shape)\n",
        "print(\"Dimensiones de las etiquetas de prueba:\", y_test.shape)\n",
        "\n"
      ]
    },
    {
      "cell_type": "code",
      "execution_count": null,
      "metadata": {
        "colab": {
          "base_uri": "https://localhost:8080/"
        },
        "id": "GuhXsfvm-yiB",
        "outputId": "80ef75da-9519-49c9-b193-f4fe952df7ef"
      },
      "outputs": [
        {
          "name": "stdout",
          "output_type": "stream",
          "text": [
            "Model: \"model\"\n",
            "_________________________________________________________________\n",
            " Layer (type)                Output Shape              Param #   \n",
            "=================================================================\n",
            " input_1 (InputLayer)        [(None, 64, 64, 3)]       0         \n",
            "                                                                 \n",
            " block1_conv1 (Conv2D)       (None, 64, 64, 64)        1792      \n",
            "                                                                 \n",
            " block1_conv2 (Conv2D)       (None, 64, 64, 64)        36928     \n",
            "                                                                 \n",
            " block1_pool (MaxPooling2D)  (None, 32, 32, 64)        0         \n",
            "                                                                 \n",
            " block2_conv1 (Conv2D)       (None, 32, 32, 128)       73856     \n",
            "                                                                 \n",
            " block2_conv2 (Conv2D)       (None, 32, 32, 128)       147584    \n",
            "                                                                 \n",
            " block2_pool (MaxPooling2D)  (None, 16, 16, 128)       0         \n",
            "                                                                 \n",
            " block3_conv1 (Conv2D)       (None, 16, 16, 256)       295168    \n",
            "                                                                 \n",
            " block3_conv2 (Conv2D)       (None, 16, 16, 256)       590080    \n",
            "                                                                 \n",
            " block3_conv3 (Conv2D)       (None, 16, 16, 256)       590080    \n",
            "                                                                 \n",
            " block3_pool (MaxPooling2D)  (None, 8, 8, 256)         0         \n",
            "                                                                 \n",
            " block4_conv1 (Conv2D)       (None, 8, 8, 512)         1180160   \n",
            "                                                                 \n",
            " block4_conv2 (Conv2D)       (None, 8, 8, 512)         2359808   \n",
            "                                                                 \n",
            " block4_conv3 (Conv2D)       (None, 8, 8, 512)         2359808   \n",
            "                                                                 \n",
            " block4_pool (MaxPooling2D)  (None, 4, 4, 512)         0         \n",
            "                                                                 \n",
            " block5_conv1 (Conv2D)       (None, 4, 4, 512)         2359808   \n",
            "                                                                 \n",
            " block5_conv2 (Conv2D)       (None, 4, 4, 512)         2359808   \n",
            "                                                                 \n",
            " block5_conv3 (Conv2D)       (None, 4, 4, 512)         2359808   \n",
            "                                                                 \n",
            " block5_pool (MaxPooling2D)  (None, 2, 2, 512)         0         \n",
            "                                                                 \n",
            " global_average_pooling2d (  (None, 512)               0         \n",
            " GlobalAveragePooling2D)                                         \n",
            "                                                                 \n",
            " dense (Dense)               (None, 1024)              525312    \n",
            "                                                                 \n",
            " dropout (Dropout)           (None, 1024)              0         \n",
            "                                                                 \n",
            " dense_1 (Dense)             (None, 1)                 1025      \n",
            "                                                                 \n",
            "=================================================================\n",
            "Total params: 15241025 (58.14 MB)\n",
            "Trainable params: 526337 (2.01 MB)\n",
            "Non-trainable params: 14714688 (56.13 MB)\n",
            "_________________________________________________________________\n"
          ]
        }
      ],
      "source": [
        "##MODELO TRANSFER\n",
        "import tensorflow as tf\n",
        "from tensorflow.keras.applications import VGG16\n",
        "from tensorflow.keras.models import Model\n",
        "from tensorflow.keras.layers import Dense, GlobalAveragePooling2D, Dropout\n",
        "from tensorflow.keras.optimizers import Adam\n",
        "\n",
        "# Cargar el modelo preentrenado VGG16 sin la parte superior (top)\n",
        "base_model = VGG16(weights='imagenet', include_top=False, input_shape=(64, 64, 3))\n",
        "\n",
        "# Añadir capas personalizadas al modelo\n",
        "x = base_model.output\n",
        "x = GlobalAveragePooling2D()(x)\n",
        "x = Dense(1024, activation='relu')(x)\n",
        "x = Dropout(0.5)(x)  # Añadir Dropout para prevenir sobreajuste\n",
        "predictions = Dense(1, activation='sigmoid')(x)\n",
        "\n",
        "# Crear el modelo final\n",
        "model = Model(inputs=base_model.input, outputs=predictions)\n",
        "\n",
        "# Congelar las capas de la base del modelo\n",
        "for layer in base_model.layers:\n",
        "    layer.trainable = False\n",
        "\n",
        "# Compilar el modelo\n",
        "model.compile(optimizer=Adam(learning_rate=0.0001), loss='binary_crossentropy', metrics=['accuracy'])\n",
        "\n",
        "# Resumen del modelo\n",
        "model.summary()\n"
      ]
    },
    {
      "cell_type": "code",
      "execution_count": null,
      "metadata": {
        "colab": {
          "base_uri": "https://localhost:8080/"
        },
        "id": "RE65U0SBAJmo",
        "outputId": "4e2b20ea-4d2b-496d-e2d5-33178c564ecf"
      },
      "outputs": [
        {
          "name": "stdout",
          "output_type": "stream",
          "text": [
            "Epoch 1/100\n",
            "603/603 [==============================] - ETA: 0s - loss: 0.4366 - accuracy: 0.8011\n",
            "Epoch 1: val_accuracy improved from -inf to 0.86712, saving model to best_model.h5\n",
            "603/603 [==============================] - 42s 60ms/step - loss: 0.4366 - accuracy: 0.8011 - val_loss: 0.3167 - val_accuracy: 0.8671\n"
          ]
        },
        {
          "name": "stderr",
          "output_type": "stream",
          "text": [
            "/usr/local/lib/python3.10/dist-packages/keras/src/engine/training.py:3103: UserWarning: You are saving your model as an HDF5 file via `model.save()`. This file format is considered legacy. We recommend using instead the native Keras format, e.g. `model.save('my_model.keras')`.\n",
            "  saving_api.save_model(\n"
          ]
        },
        {
          "name": "stdout",
          "output_type": "stream",
          "text": [
            "Epoch 2/100\n",
            "602/603 [============================>.] - ETA: 0s - loss: 0.3465 - accuracy: 0.8537\n",
            "Epoch 2: val_accuracy improved from 0.86712 to 0.89782, saving model to best_model.h5\n",
            "603/603 [==============================] - 32s 53ms/step - loss: 0.3466 - accuracy: 0.8536 - val_loss: 0.2769 - val_accuracy: 0.8978\n",
            "Epoch 3/100\n",
            "603/603 [==============================] - ETA: 0s - loss: 0.3219 - accuracy: 0.8684\n",
            "Epoch 3: val_accuracy improved from 0.89782 to 0.90088, saving model to best_model.h5\n",
            "603/603 [==============================] - 33s 55ms/step - loss: 0.3219 - accuracy: 0.8684 - val_loss: 0.2604 - val_accuracy: 0.9009\n",
            "Epoch 4/100\n",
            "603/603 [==============================] - ETA: 0s - loss: 0.3082 - accuracy: 0.8741\n",
            "Epoch 4: val_accuracy improved from 0.90088 to 0.90955, saving model to best_model.h5\n",
            "603/603 [==============================] - 34s 56ms/step - loss: 0.3082 - accuracy: 0.8741 - val_loss: 0.2668 - val_accuracy: 0.9096\n",
            "Epoch 5/100\n",
            "603/603 [==============================] - ETA: 0s - loss: 0.2982 - accuracy: 0.8794\n",
            "Epoch 5: val_accuracy improved from 0.90955 to 0.91172, saving model to best_model.h5\n",
            "603/603 [==============================] - 33s 55ms/step - loss: 0.2982 - accuracy: 0.8794 - val_loss: 0.2491 - val_accuracy: 0.9117\n",
            "Epoch 6/100\n",
            "602/603 [============================>.] - ETA: 0s - loss: 0.2912 - accuracy: 0.8787\n",
            "Epoch 6: val_accuracy improved from 0.91172 to 0.91370, saving model to best_model.h5\n",
            "603/603 [==============================] - 34s 56ms/step - loss: 0.2912 - accuracy: 0.8787 - val_loss: 0.2427 - val_accuracy: 0.9137\n",
            "Epoch 7/100\n",
            "602/603 [============================>.] - ETA: 0s - loss: 0.2871 - accuracy: 0.8847\n",
            "Epoch 7: val_accuracy improved from 0.91370 to 0.91569, saving model to best_model.h5\n",
            "603/603 [==============================] - 33s 54ms/step - loss: 0.2870 - accuracy: 0.8847 - val_loss: 0.2325 - val_accuracy: 0.9157\n",
            "Epoch 8/100\n",
            "603/603 [==============================] - ETA: 0s - loss: 0.2802 - accuracy: 0.8871\n",
            "Epoch 8: val_accuracy improved from 0.91569 to 0.91659, saving model to best_model.h5\n",
            "603/603 [==============================] - 34s 56ms/step - loss: 0.2802 - accuracy: 0.8871 - val_loss: 0.2296 - val_accuracy: 0.9166\n",
            "Epoch 9/100\n",
            "603/603 [==============================] - ETA: 0s - loss: 0.2840 - accuracy: 0.8864\n",
            "Epoch 9: val_accuracy improved from 0.91659 to 0.91731, saving model to best_model.h5\n",
            "603/603 [==============================] - 33s 54ms/step - loss: 0.2840 - accuracy: 0.8864 - val_loss: 0.2296 - val_accuracy: 0.9173\n",
            "Epoch 10/100\n",
            "602/603 [============================>.] - ETA: 0s - loss: 0.2773 - accuracy: 0.8895\n",
            "Epoch 10: val_accuracy improved from 0.91731 to 0.91912, saving model to best_model.h5\n",
            "603/603 [==============================] - 34s 56ms/step - loss: 0.2773 - accuracy: 0.8895 - val_loss: 0.2241 - val_accuracy: 0.9191\n",
            "Epoch 11/100\n",
            "602/603 [============================>.] - ETA: 0s - loss: 0.2741 - accuracy: 0.8908\n",
            "Epoch 11: val_accuracy did not improve from 0.91912\n",
            "603/603 [==============================] - 32s 53ms/step - loss: 0.2740 - accuracy: 0.8908 - val_loss: 0.2216 - val_accuracy: 0.9160\n",
            "Epoch 12/100\n",
            "603/603 [==============================] - ETA: 0s - loss: 0.2756 - accuracy: 0.8870\n",
            "Epoch 12: val_accuracy did not improve from 0.91912\n",
            "603/603 [==============================] - 34s 56ms/step - loss: 0.2756 - accuracy: 0.8870 - val_loss: 0.2165 - val_accuracy: 0.9191\n",
            "Epoch 13/100\n",
            "602/603 [============================>.] - ETA: 0s - loss: 0.2727 - accuracy: 0.8923\n",
            "Epoch 13: val_accuracy improved from 0.91912 to 0.92147, saving model to best_model.h5\n",
            "603/603 [==============================] - 32s 54ms/step - loss: 0.2730 - accuracy: 0.8921 - val_loss: 0.2151 - val_accuracy: 0.9215\n",
            "Epoch 14/100\n",
            "603/603 [==============================] - ETA: 0s - loss: 0.2689 - accuracy: 0.8939\n",
            "Epoch 14: val_accuracy improved from 0.92147 to 0.92165, saving model to best_model.h5\n",
            "603/603 [==============================] - 33s 55ms/step - loss: 0.2689 - accuracy: 0.8939 - val_loss: 0.2128 - val_accuracy: 0.9216\n",
            "Epoch 15/100\n",
            "603/603 [==============================] - ETA: 0s - loss: 0.2680 - accuracy: 0.8937\n",
            "Epoch 15: val_accuracy improved from 0.92165 to 0.92417, saving model to best_model.h5\n",
            "603/603 [==============================] - 34s 56ms/step - loss: 0.2680 - accuracy: 0.8937 - val_loss: 0.2131 - val_accuracy: 0.9242\n",
            "Epoch 16/100\n",
            "602/603 [============================>.] - ETA: 0s - loss: 0.2636 - accuracy: 0.8944\n",
            "Epoch 16: val_accuracy did not improve from 0.92417\n",
            "603/603 [==============================] - 34s 56ms/step - loss: 0.2638 - accuracy: 0.8943 - val_loss: 0.2094 - val_accuracy: 0.9242\n",
            "Epoch 17/100\n",
            "602/603 [============================>.] - ETA: 0s - loss: 0.2642 - accuracy: 0.8930\n",
            "Epoch 17: val_accuracy did not improve from 0.92417\n",
            "603/603 [==============================] - 34s 56ms/step - loss: 0.2641 - accuracy: 0.8931 - val_loss: 0.2109 - val_accuracy: 0.9242\n",
            "Epoch 18/100\n",
            "603/603 [==============================] - ETA: 0s - loss: 0.2664 - accuracy: 0.8934\n",
            "Epoch 18: val_accuracy improved from 0.92417 to 0.92544, saving model to best_model.h5\n",
            "603/603 [==============================] - 34s 56ms/step - loss: 0.2664 - accuracy: 0.8934 - val_loss: 0.2115 - val_accuracy: 0.9254\n",
            "Epoch 19/100\n",
            "603/603 [==============================] - ETA: 0s - loss: 0.2631 - accuracy: 0.8942\n",
            "Epoch 19: val_accuracy improved from 0.92544 to 0.92616, saving model to best_model.h5\n",
            "603/603 [==============================] - 33s 55ms/step - loss: 0.2631 - accuracy: 0.8942 - val_loss: 0.2106 - val_accuracy: 0.9262\n",
            "Epoch 20/100\n",
            "603/603 [==============================] - ETA: 0s - loss: 0.2640 - accuracy: 0.8921\n",
            "Epoch 20: val_accuracy did not improve from 0.92616\n",
            "603/603 [==============================] - 32s 54ms/step - loss: 0.2640 - accuracy: 0.8921 - val_loss: 0.2033 - val_accuracy: 0.9262\n",
            "Epoch 21/100\n",
            "602/603 [============================>.] - ETA: 0s - loss: 0.2601 - accuracy: 0.8959\n",
            "Epoch 21: val_accuracy did not improve from 0.92616\n",
            "603/603 [==============================] - 34s 57ms/step - loss: 0.2600 - accuracy: 0.8959 - val_loss: 0.2039 - val_accuracy: 0.9256\n",
            "Epoch 22/100\n",
            "603/603 [==============================] - ETA: 0s - loss: 0.2644 - accuracy: 0.8948\n",
            "Epoch 22: val_accuracy improved from 0.92616 to 0.92652, saving model to best_model.h5\n",
            "603/603 [==============================] - 32s 54ms/step - loss: 0.2644 - accuracy: 0.8948 - val_loss: 0.2031 - val_accuracy: 0.9265\n",
            "Epoch 23/100\n",
            "602/603 [============================>.] - ETA: 0s - loss: 0.2609 - accuracy: 0.8967\n",
            "Epoch 23: val_accuracy did not improve from 0.92652\n",
            "603/603 [==============================] - 33s 55ms/step - loss: 0.2611 - accuracy: 0.8966 - val_loss: 0.2096 - val_accuracy: 0.9262\n",
            "Epoch 24/100\n",
            "603/603 [==============================] - ETA: 0s - loss: 0.2562 - accuracy: 0.8978\n",
            "Epoch 24: val_accuracy improved from 0.92652 to 0.92833, saving model to best_model.h5\n",
            "603/603 [==============================] - 34s 56ms/step - loss: 0.2562 - accuracy: 0.8978 - val_loss: 0.2032 - val_accuracy: 0.9283\n",
            "Epoch 25/100\n",
            "603/603 [==============================] - ETA: 0s - loss: 0.2558 - accuracy: 0.8976\n",
            "Epoch 25: val_accuracy did not improve from 0.92833\n",
            "603/603 [==============================] - 32s 54ms/step - loss: 0.2558 - accuracy: 0.8976 - val_loss: 0.2259 - val_accuracy: 0.9238\n",
            "Epoch 26/100\n",
            "603/603 [==============================] - ETA: 0s - loss: 0.2640 - accuracy: 0.8955\n",
            "Epoch 26: val_accuracy did not improve from 0.92833\n",
            "603/603 [==============================] - 35s 58ms/step - loss: 0.2640 - accuracy: 0.8955 - val_loss: 0.1995 - val_accuracy: 0.9274\n",
            "Epoch 27/100\n",
            "603/603 [==============================] - ETA: 0s - loss: 0.2606 - accuracy: 0.8952\n",
            "Epoch 27: val_accuracy did not improve from 0.92833\n",
            "603/603 [==============================] - 33s 54ms/step - loss: 0.2606 - accuracy: 0.8952 - val_loss: 0.1987 - val_accuracy: 0.9269\n",
            "Epoch 28/100\n",
            "603/603 [==============================] - ETA: 0s - loss: 0.2550 - accuracy: 0.8980\n",
            "Epoch 28: val_accuracy did not improve from 0.92833\n",
            "603/603 [==============================] - 33s 54ms/step - loss: 0.2550 - accuracy: 0.8980 - val_loss: 0.1982 - val_accuracy: 0.9278\n",
            "Epoch 29/100\n",
            "603/603 [==============================] - ETA: 0s - loss: 0.2580 - accuracy: 0.8972\n",
            "Epoch 29: val_accuracy did not improve from 0.92833\n",
            "603/603 [==============================] - 33s 55ms/step - loss: 0.2580 - accuracy: 0.8972 - val_loss: 0.2005 - val_accuracy: 0.9254\n",
            "Epoch 29: early stopping\n"
          ]
        }
      ],
      "source": [
        "##REGULACION\n",
        "from tensorflow.keras.preprocessing.image import ImageDataGenerator\n",
        "from tensorflow.keras.callbacks import ModelCheckpoint, EarlyStopping\n",
        "\n",
        "# Generador de datos con aumento\n",
        "datagen = ImageDataGenerator(\n",
        "    rotation_range=20,\n",
        "    width_shift_range=0.2,\n",
        "    height_shift_range=0.2,\n",
        "    horizontal_flip=True\n",
        ")\n",
        "\n",
        "# Callbacks para guardar el mejor modelo y detener el entrenamiento temprano si no hay mejoras\n",
        "checkpoint = ModelCheckpoint('best_model.h5', monitor='val_accuracy', save_best_only=True, mode='max', verbose=1)\n",
        "early_stopping = EarlyStopping(monitor='val_accuracy', patience=5, mode='max', verbose=1)\n",
        "\n",
        "# Entrenar el modelo\n",
        "history = model.fit(\n",
        "    datagen.flow(X_train, y_train, batch_size=32),\n",
        "    validation_data=(X_val, y_val),\n",
        "    epochs=100,\n",
        "    callbacks=[checkpoint, early_stopping]\n",
        ")\n"
      ]
    },
    {
      "cell_type": "code",
      "execution_count": null,
      "metadata": {
        "colab": {
          "base_uri": "https://localhost:8080/"
        },
        "id": "PkLxe57_Hana",
        "outputId": "c3dc1842-40f4-4b99-fcb3-ab67da729ae7"
      },
      "outputs": [
        {
          "name": "stdout",
          "output_type": "stream",
          "text": [
            "Epoch 1/50\n",
            "603/603 [==============================] - ETA: 0s - loss: 0.2425 - accuracy: 0.9043\n",
            "Epoch 1: val_accuracy improved from 0.92833 to 0.94277, saving model to best_model.h5\n",
            "603/603 [==============================] - 39s 61ms/step - loss: 0.2425 - accuracy: 0.9043 - val_loss: 0.1807 - val_accuracy: 0.9428\n",
            "Epoch 2/50\n",
            "602/603 [============================>.] - ETA: 0s - loss: 0.2203 - accuracy: 0.9155\n",
            "Epoch 2: val_accuracy improved from 0.94277 to 0.94530, saving model to best_model.h5\n",
            "603/603 [==============================] - 34s 56ms/step - loss: 0.2204 - accuracy: 0.9156 - val_loss: 0.1573 - val_accuracy: 0.9453\n",
            "Epoch 3/50\n",
            "603/603 [==============================] - ETA: 0s - loss: 0.2075 - accuracy: 0.9219\n",
            "Epoch 3: val_accuracy improved from 0.94530 to 0.94746, saving model to best_model.h5\n",
            "603/603 [==============================] - 37s 61ms/step - loss: 0.2075 - accuracy: 0.9219 - val_loss: 0.1583 - val_accuracy: 0.9475\n",
            "Epoch 4/50\n",
            "603/603 [==============================] - ETA: 0s - loss: 0.2022 - accuracy: 0.9228\n",
            "Epoch 4: val_accuracy improved from 0.94746 to 0.94945, saving model to best_model.h5\n",
            "603/603 [==============================] - 35s 58ms/step - loss: 0.2022 - accuracy: 0.9228 - val_loss: 0.1505 - val_accuracy: 0.9494\n",
            "Epoch 5/50\n",
            "602/603 [============================>.] - ETA: 0s - loss: 0.1962 - accuracy: 0.9279\n",
            "Epoch 5: val_accuracy did not improve from 0.94945\n",
            "603/603 [==============================] - 33s 55ms/step - loss: 0.1962 - accuracy: 0.9279 - val_loss: 0.1682 - val_accuracy: 0.9460\n",
            "Epoch 6/50\n",
            "603/603 [==============================] - ETA: 0s - loss: 0.1905 - accuracy: 0.9286\n",
            "Epoch 6: val_accuracy improved from 0.94945 to 0.95071, saving model to best_model.h5\n",
            "603/603 [==============================] - 35s 58ms/step - loss: 0.1905 - accuracy: 0.9286 - val_loss: 0.1406 - val_accuracy: 0.9507\n",
            "Epoch 7/50\n",
            "602/603 [============================>.] - ETA: 0s - loss: 0.1848 - accuracy: 0.9295\n",
            "Epoch 7: val_accuracy improved from 0.95071 to 0.95252, saving model to best_model.h5\n",
            "603/603 [==============================] - 33s 55ms/step - loss: 0.1845 - accuracy: 0.9296 - val_loss: 0.1396 - val_accuracy: 0.9525\n",
            "Epoch 8/50\n",
            "602/603 [============================>.] - ETA: 0s - loss: 0.1791 - accuracy: 0.9341\n",
            "Epoch 8: val_accuracy improved from 0.95252 to 0.95288, saving model to best_model.h5\n",
            "603/603 [==============================] - 35s 59ms/step - loss: 0.1792 - accuracy: 0.9341 - val_loss: 0.1370 - val_accuracy: 0.9529\n",
            "Epoch 9/50\n",
            "603/603 [==============================] - ETA: 0s - loss: 0.1794 - accuracy: 0.9326\n",
            "Epoch 9: val_accuracy did not improve from 0.95288\n",
            "603/603 [==============================] - 33s 55ms/step - loss: 0.1794 - accuracy: 0.9326 - val_loss: 0.1419 - val_accuracy: 0.9505\n",
            "Epoch 10/50\n",
            "602/603 [============================>.] - ETA: 0s - loss: 0.1732 - accuracy: 0.9339\n",
            "Epoch 10: val_accuracy improved from 0.95288 to 0.95487, saving model to best_model.h5\n",
            "603/603 [==============================] - 35s 57ms/step - loss: 0.1735 - accuracy: 0.9339 - val_loss: 0.1367 - val_accuracy: 0.9549\n",
            "Epoch 11/50\n",
            "603/603 [==============================] - ETA: 0s - loss: 0.1734 - accuracy: 0.9349\n",
            "Epoch 11: val_accuracy did not improve from 0.95487\n",
            "603/603 [==============================] - 33s 55ms/step - loss: 0.1734 - accuracy: 0.9349 - val_loss: 0.1409 - val_accuracy: 0.9522\n",
            "Epoch 12/50\n",
            "603/603 [==============================] - ETA: 0s - loss: 0.1741 - accuracy: 0.9342\n",
            "Epoch 12: val_accuracy did not improve from 0.95487\n",
            "603/603 [==============================] - 34s 56ms/step - loss: 0.1741 - accuracy: 0.9342 - val_loss: 0.1384 - val_accuracy: 0.9522\n",
            "Epoch 13/50\n",
            "603/603 [==============================] - ETA: 0s - loss: 0.1693 - accuracy: 0.9357\n",
            "Epoch 13: val_accuracy did not improve from 0.95487\n",
            "603/603 [==============================] - 33s 55ms/step - loss: 0.1693 - accuracy: 0.9357 - val_loss: 0.1327 - val_accuracy: 0.9527\n",
            "Epoch 14/50\n",
            "602/603 [============================>.] - ETA: 0s - loss: 0.1665 - accuracy: 0.9370\n",
            "Epoch 14: val_accuracy did not improve from 0.95487\n",
            "603/603 [==============================] - 33s 55ms/step - loss: 0.1663 - accuracy: 0.9371 - val_loss: 0.1402 - val_accuracy: 0.9523\n",
            "Epoch 15/50\n",
            "603/603 [==============================] - ETA: 0s - loss: 0.1674 - accuracy: 0.9362\n",
            "Epoch 15: val_accuracy improved from 0.95487 to 0.95721, saving model to best_model.h5\n",
            "603/603 [==============================] - 35s 58ms/step - loss: 0.1674 - accuracy: 0.9362 - val_loss: 0.1336 - val_accuracy: 0.9572\n",
            "Epoch 16/50\n",
            "603/603 [==============================] - ETA: 0s - loss: 0.1622 - accuracy: 0.9410\n",
            "Epoch 16: val_accuracy did not improve from 0.95721\n",
            "603/603 [==============================] - 35s 58ms/step - loss: 0.1622 - accuracy: 0.9410 - val_loss: 0.1408 - val_accuracy: 0.9543\n",
            "Epoch 17/50\n",
            "602/603 [============================>.] - ETA: 0s - loss: 0.1586 - accuracy: 0.9419\n",
            "Epoch 17: val_accuracy did not improve from 0.95721\n",
            "603/603 [==============================] - 33s 55ms/step - loss: 0.1586 - accuracy: 0.9419 - val_loss: 0.1301 - val_accuracy: 0.9556\n",
            "Epoch 18/50\n",
            "603/603 [==============================] - ETA: 0s - loss: 0.1628 - accuracy: 0.9385\n",
            "Epoch 18: val_accuracy did not improve from 0.95721\n",
            "603/603 [==============================] - 34s 57ms/step - loss: 0.1628 - accuracy: 0.9385 - val_loss: 0.1379 - val_accuracy: 0.9536\n",
            "Epoch 19/50\n",
            "603/603 [==============================] - ETA: 0s - loss: 0.1595 - accuracy: 0.9407\n",
            "Epoch 19: val_accuracy did not improve from 0.95721\n",
            "603/603 [==============================] - 34s 56ms/step - loss: 0.1595 - accuracy: 0.9407 - val_loss: 0.1321 - val_accuracy: 0.9549\n",
            "Epoch 20/50\n",
            "602/603 [============================>.] - ETA: 0s - loss: 0.1580 - accuracy: 0.9395\n",
            "Epoch 20: val_accuracy did not improve from 0.95721\n",
            "603/603 [==============================] - 35s 57ms/step - loss: 0.1579 - accuracy: 0.9395 - val_loss: 0.1303 - val_accuracy: 0.9563\n",
            "Epoch 20: early stopping\n"
          ]
        }
      ],
      "source": [
        "##FINE TUNING\n",
        "# Descongelar algunas capas del modelo base\n",
        "for layer in base_model.layers[:15]:\n",
        "    layer.trainable = False\n",
        "for layer in base_model.layers[15:]:\n",
        "    layer.trainable = True\n",
        "\n",
        "# Compilar de nuevo el modelo\n",
        "model.compile(optimizer=Adam(learning_rate=0.00001), loss='binary_crossentropy', metrics=['accuracy'])\n",
        "\n",
        "# Entrenar de nuevo el modelo\n",
        "history_fine = model.fit(\n",
        "    datagen.flow(X_train, y_train, batch_size=32),\n",
        "    validation_data=(X_val, y_val),\n",
        "    epochs=50,\n",
        "    callbacks=[checkpoint, early_stopping]\n",
        ")\n"
      ]
    },
    {
      "cell_type": "markdown",
      "source": [
        "##IMAGENES RETINA"
      ],
      "metadata": {
        "id": "Uycb1CcSn0Og"
      }
    },
    {
      "cell_type": "code",
      "source": [
        "import kaggle\n",
        "\n",
        "# Descargar el dataset\n",
        "kaggle.api.dataset_download_files('paultimothymooney/kermany2018', path='path/to/dataset', unzip=True)\n"
      ],
      "metadata": {
        "colab": {
          "base_uri": "https://localhost:8080/",
          "height": 339
        },
        "id": "S1sxLbtbn3y3",
        "outputId": "947b5217-9fcd-4d1d-85b1-1285961d1ae1"
      },
      "execution_count": null,
      "outputs": [
        {
          "output_type": "stream",
          "name": "stdout",
          "text": [
            "Dataset URL: https://www.kaggle.com/datasets/paultimothymooney/kermany2018\n"
          ]
        },
        {
          "output_type": "error",
          "ename": "KeyboardInterrupt",
          "evalue": "",
          "traceback": [
            "\u001b[0;31m---------------------------------------------------------------------------\u001b[0m",
            "\u001b[0;31mKeyboardInterrupt\u001b[0m                         Traceback (most recent call last)",
            "\u001b[0;32m<ipython-input-3-9e7f2fa3af13>\u001b[0m in \u001b[0;36m<cell line: 4>\u001b[0;34m()\u001b[0m\n\u001b[1;32m      2\u001b[0m \u001b[0;34m\u001b[0m\u001b[0m\n\u001b[1;32m      3\u001b[0m \u001b[0;31m# Descargar el dataset\u001b[0m\u001b[0;34m\u001b[0m\u001b[0;34m\u001b[0m\u001b[0m\n\u001b[0;32m----> 4\u001b[0;31m \u001b[0mkaggle\u001b[0m\u001b[0;34m.\u001b[0m\u001b[0mapi\u001b[0m\u001b[0;34m.\u001b[0m\u001b[0mdataset_download_files\u001b[0m\u001b[0;34m(\u001b[0m\u001b[0;34m'paultimothymooney/kermany2018'\u001b[0m\u001b[0;34m,\u001b[0m \u001b[0mpath\u001b[0m\u001b[0;34m=\u001b[0m\u001b[0;34m'path/to/dataset'\u001b[0m\u001b[0;34m,\u001b[0m \u001b[0munzip\u001b[0m\u001b[0;34m=\u001b[0m\u001b[0;32mTrue\u001b[0m\u001b[0;34m)\u001b[0m\u001b[0;34m\u001b[0m\u001b[0;34m\u001b[0m\u001b[0m\n\u001b[0m",
            "\u001b[0;32m/usr/local/lib/python3.10/dist-packages/kaggle/api/kaggle_api_extended.py\u001b[0m in \u001b[0;36mdataset_download_files\u001b[0;34m(self, dataset, path, force, quiet, unzip, licenses)\u001b[0m\n\u001b[1;32m   1497\u001b[0m         \u001b[0moutfile\u001b[0m \u001b[0;34m=\u001b[0m \u001b[0mos\u001b[0m\u001b[0;34m.\u001b[0m\u001b[0mpath\u001b[0m\u001b[0;34m.\u001b[0m\u001b[0mjoin\u001b[0m\u001b[0;34m(\u001b[0m\u001b[0meffective_path\u001b[0m\u001b[0;34m,\u001b[0m \u001b[0mdataset_slug\u001b[0m \u001b[0;34m+\u001b[0m \u001b[0;34m'.zip'\u001b[0m\u001b[0;34m)\u001b[0m\u001b[0;34m\u001b[0m\u001b[0;34m\u001b[0m\u001b[0m\n\u001b[1;32m   1498\u001b[0m         \u001b[0;32mif\u001b[0m \u001b[0mforce\u001b[0m \u001b[0;32mor\u001b[0m \u001b[0mself\u001b[0m\u001b[0;34m.\u001b[0m\u001b[0mdownload_needed\u001b[0m\u001b[0;34m(\u001b[0m\u001b[0mresponse\u001b[0m\u001b[0;34m,\u001b[0m \u001b[0moutfile\u001b[0m\u001b[0;34m,\u001b[0m \u001b[0mquiet\u001b[0m\u001b[0;34m)\u001b[0m\u001b[0;34m:\u001b[0m\u001b[0;34m\u001b[0m\u001b[0;34m\u001b[0m\u001b[0m\n\u001b[0;32m-> 1499\u001b[0;31m             \u001b[0mself\u001b[0m\u001b[0;34m.\u001b[0m\u001b[0mdownload_file\u001b[0m\u001b[0;34m(\u001b[0m\u001b[0mresponse\u001b[0m\u001b[0;34m,\u001b[0m \u001b[0moutfile\u001b[0m\u001b[0;34m,\u001b[0m \u001b[0mquiet\u001b[0m\u001b[0;34m,\u001b[0m \u001b[0;32mnot\u001b[0m \u001b[0mforce\u001b[0m\u001b[0;34m)\u001b[0m\u001b[0;34m\u001b[0m\u001b[0;34m\u001b[0m\u001b[0m\n\u001b[0m\u001b[1;32m   1500\u001b[0m             \u001b[0mdownloaded\u001b[0m \u001b[0;34m=\u001b[0m \u001b[0;32mTrue\u001b[0m\u001b[0;34m\u001b[0m\u001b[0;34m\u001b[0m\u001b[0m\n\u001b[1;32m   1501\u001b[0m         \u001b[0;32melse\u001b[0m\u001b[0;34m:\u001b[0m\u001b[0;34m\u001b[0m\u001b[0;34m\u001b[0m\u001b[0m\n",
            "\u001b[0;32m/usr/local/lib/python3.10/dist-packages/kaggle/api/kaggle_api_extended.py\u001b[0m in \u001b[0;36mdownload_file\u001b[0;34m(self, response, outfile, quiet, resume, chunk_size)\u001b[0m\n\u001b[1;32m   1956\u001b[0m             \u001b[0;32mwith\u001b[0m \u001b[0mopen\u001b[0m\u001b[0;34m(\u001b[0m\u001b[0moutfile\u001b[0m\u001b[0;34m,\u001b[0m \u001b[0mopen_mode\u001b[0m\u001b[0;34m)\u001b[0m \u001b[0;32mas\u001b[0m \u001b[0mout\u001b[0m\u001b[0;34m:\u001b[0m\u001b[0;34m\u001b[0m\u001b[0;34m\u001b[0m\u001b[0m\n\u001b[1;32m   1957\u001b[0m                 \u001b[0;32mwhile\u001b[0m \u001b[0;32mTrue\u001b[0m\u001b[0;34m:\u001b[0m\u001b[0;34m\u001b[0m\u001b[0;34m\u001b[0m\u001b[0m\n\u001b[0;32m-> 1958\u001b[0;31m                     \u001b[0mdata\u001b[0m \u001b[0;34m=\u001b[0m \u001b[0mresponse\u001b[0m\u001b[0;34m.\u001b[0m\u001b[0mread\u001b[0m\u001b[0;34m(\u001b[0m\u001b[0mchunk_size\u001b[0m\u001b[0;34m)\u001b[0m\u001b[0;34m\u001b[0m\u001b[0;34m\u001b[0m\u001b[0m\n\u001b[0m\u001b[1;32m   1959\u001b[0m                     \u001b[0;32mif\u001b[0m \u001b[0;32mnot\u001b[0m \u001b[0mdata\u001b[0m\u001b[0;34m:\u001b[0m\u001b[0;34m\u001b[0m\u001b[0;34m\u001b[0m\u001b[0m\n\u001b[1;32m   1960\u001b[0m                         \u001b[0;32mbreak\u001b[0m\u001b[0;34m\u001b[0m\u001b[0;34m\u001b[0m\u001b[0m\n",
            "\u001b[0;32m/usr/local/lib/python3.10/dist-packages/urllib3/response.py\u001b[0m in \u001b[0;36mread\u001b[0;34m(self, amt, decode_content, cache_content)\u001b[0m\n\u001b[1;32m    877\u001b[0m                 \u001b[0;32mreturn\u001b[0m \u001b[0mself\u001b[0m\u001b[0;34m.\u001b[0m\u001b[0m_decoded_buffer\u001b[0m\u001b[0;34m.\u001b[0m\u001b[0mget\u001b[0m\u001b[0;34m(\u001b[0m\u001b[0mamt\u001b[0m\u001b[0;34m)\u001b[0m\u001b[0;34m\u001b[0m\u001b[0;34m\u001b[0m\u001b[0m\n\u001b[1;32m    878\u001b[0m \u001b[0;34m\u001b[0m\u001b[0m\n\u001b[0;32m--> 879\u001b[0;31m         \u001b[0mdata\u001b[0m \u001b[0;34m=\u001b[0m \u001b[0mself\u001b[0m\u001b[0;34m.\u001b[0m\u001b[0m_raw_read\u001b[0m\u001b[0;34m(\u001b[0m\u001b[0mamt\u001b[0m\u001b[0;34m)\u001b[0m\u001b[0;34m\u001b[0m\u001b[0;34m\u001b[0m\u001b[0m\n\u001b[0m\u001b[1;32m    880\u001b[0m \u001b[0;34m\u001b[0m\u001b[0m\n\u001b[1;32m    881\u001b[0m         \u001b[0mflush_decoder\u001b[0m \u001b[0;34m=\u001b[0m \u001b[0mamt\u001b[0m \u001b[0;32mis\u001b[0m \u001b[0;32mNone\u001b[0m \u001b[0;32mor\u001b[0m \u001b[0;34m(\u001b[0m\u001b[0mamt\u001b[0m \u001b[0;34m!=\u001b[0m \u001b[0;36m0\u001b[0m \u001b[0;32mand\u001b[0m \u001b[0;32mnot\u001b[0m \u001b[0mdata\u001b[0m\u001b[0;34m)\u001b[0m\u001b[0;34m\u001b[0m\u001b[0;34m\u001b[0m\u001b[0m\n",
            "\u001b[0;32m/usr/local/lib/python3.10/dist-packages/urllib3/response.py\u001b[0m in \u001b[0;36m_raw_read\u001b[0;34m(self, amt)\u001b[0m\n\u001b[1;32m    812\u001b[0m \u001b[0;34m\u001b[0m\u001b[0m\n\u001b[1;32m    813\u001b[0m         \u001b[0;32mwith\u001b[0m \u001b[0mself\u001b[0m\u001b[0;34m.\u001b[0m\u001b[0m_error_catcher\u001b[0m\u001b[0;34m(\u001b[0m\u001b[0;34m)\u001b[0m\u001b[0;34m:\u001b[0m\u001b[0;34m\u001b[0m\u001b[0;34m\u001b[0m\u001b[0m\n\u001b[0;32m--> 814\u001b[0;31m             \u001b[0mdata\u001b[0m \u001b[0;34m=\u001b[0m \u001b[0mself\u001b[0m\u001b[0;34m.\u001b[0m\u001b[0m_fp_read\u001b[0m\u001b[0;34m(\u001b[0m\u001b[0mamt\u001b[0m\u001b[0;34m)\u001b[0m \u001b[0;32mif\u001b[0m \u001b[0;32mnot\u001b[0m \u001b[0mfp_closed\u001b[0m \u001b[0;32melse\u001b[0m \u001b[0;34mb\"\"\u001b[0m\u001b[0;34m\u001b[0m\u001b[0;34m\u001b[0m\u001b[0m\n\u001b[0m\u001b[1;32m    815\u001b[0m             \u001b[0;32mif\u001b[0m \u001b[0mamt\u001b[0m \u001b[0;32mis\u001b[0m \u001b[0;32mnot\u001b[0m \u001b[0;32mNone\u001b[0m \u001b[0;32mand\u001b[0m \u001b[0mamt\u001b[0m \u001b[0;34m!=\u001b[0m \u001b[0;36m0\u001b[0m \u001b[0;32mand\u001b[0m \u001b[0;32mnot\u001b[0m \u001b[0mdata\u001b[0m\u001b[0;34m:\u001b[0m\u001b[0;34m\u001b[0m\u001b[0;34m\u001b[0m\u001b[0m\n\u001b[1;32m    816\u001b[0m                 \u001b[0;31m# Platform-specific: Buggy versions of Python.\u001b[0m\u001b[0;34m\u001b[0m\u001b[0;34m\u001b[0m\u001b[0m\n",
            "\u001b[0;32m/usr/local/lib/python3.10/dist-packages/urllib3/response.py\u001b[0m in \u001b[0;36m_fp_read\u001b[0;34m(self, amt)\u001b[0m\n\u001b[1;32m    797\u001b[0m         \u001b[0;32melse\u001b[0m\u001b[0;34m:\u001b[0m\u001b[0;34m\u001b[0m\u001b[0;34m\u001b[0m\u001b[0m\n\u001b[1;32m    798\u001b[0m             \u001b[0;31m# StringIO doesn't like amt=None\u001b[0m\u001b[0;34m\u001b[0m\u001b[0;34m\u001b[0m\u001b[0m\n\u001b[0;32m--> 799\u001b[0;31m             \u001b[0;32mreturn\u001b[0m \u001b[0mself\u001b[0m\u001b[0;34m.\u001b[0m\u001b[0m_fp\u001b[0m\u001b[0;34m.\u001b[0m\u001b[0mread\u001b[0m\u001b[0;34m(\u001b[0m\u001b[0mamt\u001b[0m\u001b[0;34m)\u001b[0m \u001b[0;32mif\u001b[0m \u001b[0mamt\u001b[0m \u001b[0;32mis\u001b[0m \u001b[0;32mnot\u001b[0m \u001b[0;32mNone\u001b[0m \u001b[0;32melse\u001b[0m \u001b[0mself\u001b[0m\u001b[0;34m.\u001b[0m\u001b[0m_fp\u001b[0m\u001b[0;34m.\u001b[0m\u001b[0mread\u001b[0m\u001b[0;34m(\u001b[0m\u001b[0;34m)\u001b[0m\u001b[0;34m\u001b[0m\u001b[0;34m\u001b[0m\u001b[0m\n\u001b[0m\u001b[1;32m    800\u001b[0m \u001b[0;34m\u001b[0m\u001b[0m\n\u001b[1;32m    801\u001b[0m     def _raw_read(\n",
            "\u001b[0;32m/usr/lib/python3.10/http/client.py\u001b[0m in \u001b[0;36mread\u001b[0;34m(self, amt)\u001b[0m\n\u001b[1;32m    464\u001b[0m                 \u001b[0;31m# clip the read to the \"end of response\"\u001b[0m\u001b[0;34m\u001b[0m\u001b[0;34m\u001b[0m\u001b[0m\n\u001b[1;32m    465\u001b[0m                 \u001b[0mamt\u001b[0m \u001b[0;34m=\u001b[0m \u001b[0mself\u001b[0m\u001b[0;34m.\u001b[0m\u001b[0mlength\u001b[0m\u001b[0;34m\u001b[0m\u001b[0;34m\u001b[0m\u001b[0m\n\u001b[0;32m--> 466\u001b[0;31m             \u001b[0ms\u001b[0m \u001b[0;34m=\u001b[0m \u001b[0mself\u001b[0m\u001b[0;34m.\u001b[0m\u001b[0mfp\u001b[0m\u001b[0;34m.\u001b[0m\u001b[0mread\u001b[0m\u001b[0;34m(\u001b[0m\u001b[0mamt\u001b[0m\u001b[0;34m)\u001b[0m\u001b[0;34m\u001b[0m\u001b[0;34m\u001b[0m\u001b[0m\n\u001b[0m\u001b[1;32m    467\u001b[0m             \u001b[0;32mif\u001b[0m \u001b[0;32mnot\u001b[0m \u001b[0ms\u001b[0m \u001b[0;32mand\u001b[0m \u001b[0mamt\u001b[0m\u001b[0;34m:\u001b[0m\u001b[0;34m\u001b[0m\u001b[0;34m\u001b[0m\u001b[0m\n\u001b[1;32m    468\u001b[0m                 \u001b[0;31m# Ideally, we would raise IncompleteRead if the content-length\u001b[0m\u001b[0;34m\u001b[0m\u001b[0;34m\u001b[0m\u001b[0m\n",
            "\u001b[0;32m/usr/lib/python3.10/socket.py\u001b[0m in \u001b[0;36mreadinto\u001b[0;34m(self, b)\u001b[0m\n\u001b[1;32m    703\u001b[0m         \u001b[0;32mwhile\u001b[0m \u001b[0;32mTrue\u001b[0m\u001b[0;34m:\u001b[0m\u001b[0;34m\u001b[0m\u001b[0;34m\u001b[0m\u001b[0m\n\u001b[1;32m    704\u001b[0m             \u001b[0;32mtry\u001b[0m\u001b[0;34m:\u001b[0m\u001b[0;34m\u001b[0m\u001b[0;34m\u001b[0m\u001b[0m\n\u001b[0;32m--> 705\u001b[0;31m                 \u001b[0;32mreturn\u001b[0m \u001b[0mself\u001b[0m\u001b[0;34m.\u001b[0m\u001b[0m_sock\u001b[0m\u001b[0;34m.\u001b[0m\u001b[0mrecv_into\u001b[0m\u001b[0;34m(\u001b[0m\u001b[0mb\u001b[0m\u001b[0;34m)\u001b[0m\u001b[0;34m\u001b[0m\u001b[0;34m\u001b[0m\u001b[0m\n\u001b[0m\u001b[1;32m    706\u001b[0m             \u001b[0;32mexcept\u001b[0m \u001b[0mtimeout\u001b[0m\u001b[0;34m:\u001b[0m\u001b[0;34m\u001b[0m\u001b[0;34m\u001b[0m\u001b[0m\n\u001b[1;32m    707\u001b[0m                 \u001b[0mself\u001b[0m\u001b[0;34m.\u001b[0m\u001b[0m_timeout_occurred\u001b[0m \u001b[0;34m=\u001b[0m \u001b[0;32mTrue\u001b[0m\u001b[0;34m\u001b[0m\u001b[0;34m\u001b[0m\u001b[0m\n",
            "\u001b[0;32m/usr/lib/python3.10/ssl.py\u001b[0m in \u001b[0;36mrecv_into\u001b[0;34m(self, buffer, nbytes, flags)\u001b[0m\n\u001b[1;32m   1301\u001b[0m                   \u001b[0;34m\"non-zero flags not allowed in calls to recv_into() on %s\"\u001b[0m \u001b[0;34m%\u001b[0m\u001b[0;34m\u001b[0m\u001b[0;34m\u001b[0m\u001b[0m\n\u001b[1;32m   1302\u001b[0m                   self.__class__)\n\u001b[0;32m-> 1303\u001b[0;31m             \u001b[0;32mreturn\u001b[0m \u001b[0mself\u001b[0m\u001b[0;34m.\u001b[0m\u001b[0mread\u001b[0m\u001b[0;34m(\u001b[0m\u001b[0mnbytes\u001b[0m\u001b[0;34m,\u001b[0m \u001b[0mbuffer\u001b[0m\u001b[0;34m)\u001b[0m\u001b[0;34m\u001b[0m\u001b[0;34m\u001b[0m\u001b[0m\n\u001b[0m\u001b[1;32m   1304\u001b[0m         \u001b[0;32melse\u001b[0m\u001b[0;34m:\u001b[0m\u001b[0;34m\u001b[0m\u001b[0;34m\u001b[0m\u001b[0m\n\u001b[1;32m   1305\u001b[0m             \u001b[0;32mreturn\u001b[0m \u001b[0msuper\u001b[0m\u001b[0;34m(\u001b[0m\u001b[0;34m)\u001b[0m\u001b[0;34m.\u001b[0m\u001b[0mrecv_into\u001b[0m\u001b[0;34m(\u001b[0m\u001b[0mbuffer\u001b[0m\u001b[0;34m,\u001b[0m \u001b[0mnbytes\u001b[0m\u001b[0;34m,\u001b[0m \u001b[0mflags\u001b[0m\u001b[0;34m)\u001b[0m\u001b[0;34m\u001b[0m\u001b[0;34m\u001b[0m\u001b[0m\n",
            "\u001b[0;32m/usr/lib/python3.10/ssl.py\u001b[0m in \u001b[0;36mread\u001b[0;34m(self, len, buffer)\u001b[0m\n\u001b[1;32m   1157\u001b[0m         \u001b[0;32mtry\u001b[0m\u001b[0;34m:\u001b[0m\u001b[0;34m\u001b[0m\u001b[0;34m\u001b[0m\u001b[0m\n\u001b[1;32m   1158\u001b[0m             \u001b[0;32mif\u001b[0m \u001b[0mbuffer\u001b[0m \u001b[0;32mis\u001b[0m \u001b[0;32mnot\u001b[0m \u001b[0;32mNone\u001b[0m\u001b[0;34m:\u001b[0m\u001b[0;34m\u001b[0m\u001b[0;34m\u001b[0m\u001b[0m\n\u001b[0;32m-> 1159\u001b[0;31m                 \u001b[0;32mreturn\u001b[0m \u001b[0mself\u001b[0m\u001b[0;34m.\u001b[0m\u001b[0m_sslobj\u001b[0m\u001b[0;34m.\u001b[0m\u001b[0mread\u001b[0m\u001b[0;34m(\u001b[0m\u001b[0mlen\u001b[0m\u001b[0;34m,\u001b[0m \u001b[0mbuffer\u001b[0m\u001b[0;34m)\u001b[0m\u001b[0;34m\u001b[0m\u001b[0;34m\u001b[0m\u001b[0m\n\u001b[0m\u001b[1;32m   1160\u001b[0m             \u001b[0;32melse\u001b[0m\u001b[0;34m:\u001b[0m\u001b[0;34m\u001b[0m\u001b[0;34m\u001b[0m\u001b[0m\n\u001b[1;32m   1161\u001b[0m                 \u001b[0;32mreturn\u001b[0m \u001b[0mself\u001b[0m\u001b[0;34m.\u001b[0m\u001b[0m_sslobj\u001b[0m\u001b[0;34m.\u001b[0m\u001b[0mread\u001b[0m\u001b[0;34m(\u001b[0m\u001b[0mlen\u001b[0m\u001b[0;34m)\u001b[0m\u001b[0;34m\u001b[0m\u001b[0;34m\u001b[0m\u001b[0m\n",
            "\u001b[0;31mKeyboardInterrupt\u001b[0m: "
          ]
        }
      ]
    },
    {
      "cell_type": "markdown",
      "source": [
        "##PRE PROCESAMIENTO"
      ],
      "metadata": {
        "id": "VDxtwdDgpFoU"
      }
    },
    {
      "cell_type": "code",
      "source": [
        "import os\n",
        "import kaggle\n",
        "import zipfile\n",
        "\n",
        "# Especifica la ruta donde se guardará el dataset\n",
        "dataset_path = '/content/path/to/dataset'\n",
        "zip_path = os.path.join(dataset_path, 'kermany2018.zip')\n",
        "\n",
        "# Descargar el dataset\n",
        "kaggle.api.dataset_download_files('paultimothymooney/kermany2018', path=dataset_path, unzip=False)\n",
        "\n",
        "# Descomprimir el archivo si no se descomprimió automáticamente\n",
        "with zipfile.ZipFile(zip_path, 'r') as zip_ref:\n",
        "    zip_ref.extractall(dataset_path)\n",
        "\n",
        "# Verificar la estructura del directorio\n",
        "base_dir = os.path.join(dataset_path, '/content/path/to/dataset/OCT2017 ')\n",
        "train_dir = os.path.join(base_dir, '/content/path/to/dataset/OCT2017 /train')\n",
        "val_dir = os.path.join(base_dir, '/content/path/to/dataset/OCT2017 /val')\n",
        "test_dir = os.path.join(base_dir, '/content/path/to/dataset/OCT2017 /test')\n",
        "\n",
        "print(\"Directorio de entrenamiento:\", os.listdir(train_dir))\n",
        "print(\"Directorio de validación:\", os.listdir(val_dir))\n",
        "print(\"Directorio de prueba:\", os.listdir(test_dir))\n",
        "\n",
        "# Inicializar listas para almacenar imágenes y etiquetas\n",
        "images = []\n",
        "labels = []\n",
        "\n",
        "# Función para cargar y preprocesar imágenes\n",
        "def load_images(image_list, label, dir_path):\n",
        "    for image_name in image_list:\n",
        "        image_path = os.path.join(dir_path, label, image_name)\n",
        "        image = cv2.imread(image_path)\n",
        "        if image is not None:\n",
        "            if not image.size == 0:\n",
        "                image = cv2.resize(image, (64, 64))  # Redimensionar todas las imágenes a 64x64 píxeles\n",
        "                image = cv2.cvtColor(image, cv2.COLOR_BGR2RGB)  # Convertir las imágenes a formato RGB\n",
        "                images.append(image)\n",
        "                labels.append(label)\n",
        "            else:\n",
        "                print(f\"La imagen {image_path} está vacía.\")\n",
        "        else:\n",
        "            print(f\"No se pudo cargar la imagen {image_path}.\")\n",
        "\n",
        "# Cargar imágenes de entrenamiento, validación y prueba\n",
        "for label in ['CNV', 'DME', 'DRUSEN', 'NORMAL']:\n",
        "    load_images(os.listdir(os.path.join(train_dir, label)), label, train_dir)\n",
        "    load_images(os.listdir(os.path.join(val_dir, label)), label, val_dir)\n",
        "    load_images(os.listdir(os.path.join(test_dir, label)), label, test_dir)\n",
        "\n",
        "# Convertir las listas de imágenes y etiquetas a matrices NumPy\n",
        "images = np.array(images)\n",
        "labels = np.array(labels)\n",
        "\n",
        "# Normalización de las imágenes\n",
        "images = images / 255.0\n",
        "\n",
        "# División del conjunto de datos en entrenamiento, validación y prueba\n",
        "X_train, X_temp, y_train, y_temp = train_test_split(images, labels, test_size=0.3, random_state=42, stratify=labels)\n",
        "X_val, X_test, y_val, y_test = train_test_split(X_temp, y_temp, test_size=0.33, random_state=42, stratify=y_temp)\n",
        "\n",
        "# Verificar las dimensiones de las matrices\n",
        "print(\"Dimensiones de las imágenes de entrenamiento:\", X_train.shape)\n",
        "print(\"Dimensiones de las etiquetas de entrenamiento:\", y_train.shape)\n",
        "print(\"Dimensiones de las imágenes de validación:\", X_val.shape)\n",
        "print(\"Dimensiones de las etiquetas de validación:\", y_val.shape)\n",
        "print(\"Dimensiones de las imágenes de prueba:\", X_test.shape)\n",
        "print(\"Dimensiones de las etiquetas de prueba:\", y_test.shape)\n",
        "\n"
      ],
      "metadata": {
        "colab": {
          "base_uri": "https://localhost:8080/",
          "height": 356
        },
        "id": "XbOnaqHvpHmQ",
        "outputId": "15301b10-280f-4c77-fe67-eee43efa5d0a"
      },
      "execution_count": null,
      "outputs": [
        {
          "output_type": "error",
          "ename": "OSError",
          "evalue": "Could not find kaggle.json. Make sure it's located in /root/.kaggle. Or use the environment method.",
          "traceback": [
            "\u001b[0;31m---------------------------------------------------------------------------\u001b[0m",
            "\u001b[0;31mOSError\u001b[0m                                   Traceback (most recent call last)",
            "\u001b[0;32m<ipython-input-4-8000ee248f13>\u001b[0m in \u001b[0;36m<cell line: 2>\u001b[0;34m()\u001b[0m\n\u001b[1;32m      1\u001b[0m \u001b[0;32mimport\u001b[0m \u001b[0mos\u001b[0m\u001b[0;34m\u001b[0m\u001b[0;34m\u001b[0m\u001b[0m\n\u001b[0;32m----> 2\u001b[0;31m \u001b[0;32mimport\u001b[0m \u001b[0mkaggle\u001b[0m\u001b[0;34m\u001b[0m\u001b[0;34m\u001b[0m\u001b[0m\n\u001b[0m\u001b[1;32m      3\u001b[0m \u001b[0;32mimport\u001b[0m \u001b[0mzipfile\u001b[0m\u001b[0;34m\u001b[0m\u001b[0;34m\u001b[0m\u001b[0m\n\u001b[1;32m      4\u001b[0m \u001b[0;34m\u001b[0m\u001b[0m\n\u001b[1;32m      5\u001b[0m \u001b[0;31m# Especifica la ruta donde se guardará el dataset\u001b[0m\u001b[0;34m\u001b[0m\u001b[0;34m\u001b[0m\u001b[0m\n",
            "\u001b[0;32m/usr/local/lib/python3.10/dist-packages/kaggle/__init__.py\u001b[0m in \u001b[0;36m<module>\u001b[0;34m\u001b[0m\n\u001b[1;32m      5\u001b[0m \u001b[0;34m\u001b[0m\u001b[0m\n\u001b[1;32m      6\u001b[0m \u001b[0mapi\u001b[0m \u001b[0;34m=\u001b[0m \u001b[0mKaggleApi\u001b[0m\u001b[0;34m(\u001b[0m\u001b[0mApiClient\u001b[0m\u001b[0;34m(\u001b[0m\u001b[0;34m)\u001b[0m\u001b[0;34m)\u001b[0m\u001b[0;34m\u001b[0m\u001b[0;34m\u001b[0m\u001b[0m\n\u001b[0;32m----> 7\u001b[0;31m \u001b[0mapi\u001b[0m\u001b[0;34m.\u001b[0m\u001b[0mauthenticate\u001b[0m\u001b[0;34m(\u001b[0m\u001b[0;34m)\u001b[0m\u001b[0;34m\u001b[0m\u001b[0;34m\u001b[0m\u001b[0m\n\u001b[0m",
            "\u001b[0;32m/usr/local/lib/python3.10/dist-packages/kaggle/api/kaggle_api_extended.py\u001b[0m in \u001b[0;36mauthenticate\u001b[0;34m(self)\u001b[0m\n\u001b[1;32m    396\u001b[0m                 \u001b[0;32mreturn\u001b[0m\u001b[0;34m\u001b[0m\u001b[0;34m\u001b[0m\u001b[0m\n\u001b[1;32m    397\u001b[0m             \u001b[0;32melse\u001b[0m\u001b[0;34m:\u001b[0m\u001b[0;34m\u001b[0m\u001b[0;34m\u001b[0m\u001b[0m\n\u001b[0;32m--> 398\u001b[0;31m                 raise IOError('Could not find {}. Make sure it\\'s located in'\n\u001b[0m\u001b[1;32m    399\u001b[0m                               ' {}. Or use the environment method.'.format(\n\u001b[1;32m    400\u001b[0m                                   self.config_file, self.config_dir))\n",
            "\u001b[0;31mOSError\u001b[0m: Could not find kaggle.json. Make sure it's located in /root/.kaggle. Or use the environment method."
          ]
        }
      ]
    },
    {
      "cell_type": "markdown",
      "source": [
        "##TRANSFER"
      ],
      "metadata": {
        "id": "Omb1DyFi0UeV"
      }
    },
    {
      "cell_type": "code",
      "source": [
        "import tensorflow as tf\n",
        "from tensorflow.keras.applications import VGG16\n",
        "from tensorflow.keras.models import Model\n",
        "from tensorflow.keras.layers import Dense, GlobalAveragePooling2D, Dropout\n",
        "from tensorflow.keras.optimizers import Adam\n",
        "\n",
        "# Cargar el modelo preentrenado VGG16 sin la parte superior (top)\n",
        "base_model = VGG16(weights='imagenet', include_top=False, input_shape=(64, 64, 3))\n",
        "\n",
        "# Añadir capas personalizadas al modelo\n",
        "x = base_model.output\n",
        "x = GlobalAveragePooling2D()(x)\n",
        "x = Dense(1024, activation='relu')(x)\n",
        "x = Dropout(0.5)(x)  # Añadir Dropout para prevenir sobreajuste\n",
        "predictions = Dense(4, activation='softmax')(x)  # 4 clases: CNV, DME, DRUSEN, NORMAL\n",
        "\n",
        "# Crear el modelo final\n",
        "model = Model(inputs=base_model.input, outputs=predictions)\n",
        "\n",
        "# Congelar las capas de la base del modelo\n",
        "for layer in base_model.layers:\n",
        "    layer.trainable = False\n",
        "\n",
        "# Compilar el modelo\n",
        "model.compile(optimizer=Adam(learning_rate=0.0001), loss='sparse_categorical_crossentropy', metrics=['accuracy'])\n",
        "\n",
        "# Resumen del modelo\n",
        "model.summary()\n"
      ],
      "metadata": {
        "colab": {
          "base_uri": "https://localhost:8080/"
        },
        "id": "2ZPdBwEo0TaA",
        "outputId": "c5d3c07e-f79b-4f58-b747-14b878a1414b"
      },
      "execution_count": null,
      "outputs": [
        {
          "output_type": "stream",
          "name": "stdout",
          "text": [
            "Downloading data from https://storage.googleapis.com/tensorflow/keras-applications/vgg16/vgg16_weights_tf_dim_ordering_tf_kernels_notop.h5\n",
            "58889256/58889256 [==============================] - 0s 0us/step\n",
            "Model: \"model\"\n",
            "_________________________________________________________________\n",
            " Layer (type)                Output Shape              Param #   \n",
            "=================================================================\n",
            " input_1 (InputLayer)        [(None, 64, 64, 3)]       0         \n",
            "                                                                 \n",
            " block1_conv1 (Conv2D)       (None, 64, 64, 64)        1792      \n",
            "                                                                 \n",
            " block1_conv2 (Conv2D)       (None, 64, 64, 64)        36928     \n",
            "                                                                 \n",
            " block1_pool (MaxPooling2D)  (None, 32, 32, 64)        0         \n",
            "                                                                 \n",
            " block2_conv1 (Conv2D)       (None, 32, 32, 128)       73856     \n",
            "                                                                 \n",
            " block2_conv2 (Conv2D)       (None, 32, 32, 128)       147584    \n",
            "                                                                 \n",
            " block2_pool (MaxPooling2D)  (None, 16, 16, 128)       0         \n",
            "                                                                 \n",
            " block3_conv1 (Conv2D)       (None, 16, 16, 256)       295168    \n",
            "                                                                 \n",
            " block3_conv2 (Conv2D)       (None, 16, 16, 256)       590080    \n",
            "                                                                 \n",
            " block3_conv3 (Conv2D)       (None, 16, 16, 256)       590080    \n",
            "                                                                 \n",
            " block3_pool (MaxPooling2D)  (None, 8, 8, 256)         0         \n",
            "                                                                 \n",
            " block4_conv1 (Conv2D)       (None, 8, 8, 512)         1180160   \n",
            "                                                                 \n",
            " block4_conv2 (Conv2D)       (None, 8, 8, 512)         2359808   \n",
            "                                                                 \n",
            " block4_conv3 (Conv2D)       (None, 8, 8, 512)         2359808   \n",
            "                                                                 \n",
            " block4_pool (MaxPooling2D)  (None, 4, 4, 512)         0         \n",
            "                                                                 \n",
            " block5_conv1 (Conv2D)       (None, 4, 4, 512)         2359808   \n",
            "                                                                 \n",
            " block5_conv2 (Conv2D)       (None, 4, 4, 512)         2359808   \n",
            "                                                                 \n",
            " block5_conv3 (Conv2D)       (None, 4, 4, 512)         2359808   \n",
            "                                                                 \n",
            " block5_pool (MaxPooling2D)  (None, 2, 2, 512)         0         \n",
            "                                                                 \n",
            " global_average_pooling2d (  (None, 512)               0         \n",
            " GlobalAveragePooling2D)                                         \n",
            "                                                                 \n",
            " dense (Dense)               (None, 1024)              525312    \n",
            "                                                                 \n",
            " dropout (Dropout)           (None, 1024)              0         \n",
            "                                                                 \n",
            " dense_1 (Dense)             (None, 4)                 4100      \n",
            "                                                                 \n",
            "=================================================================\n",
            "Total params: 15244100 (58.15 MB)\n",
            "Trainable params: 529412 (2.02 MB)\n",
            "Non-trainable params: 14714688 (56.13 MB)\n",
            "_________________________________________________________________\n"
          ]
        }
      ]
    },
    {
      "cell_type": "code",
      "source": [
        "\n"
      ],
      "metadata": {
        "colab": {
          "base_uri": "https://localhost:8080/",
          "height": 211
        },
        "id": "hqN4pIY22CqW",
        "outputId": "aa1966e3-1b49-4f4d-c8ad-c6345f6903d6"
      },
      "execution_count": null,
      "outputs": [
        {
          "output_type": "error",
          "ename": "NameError",
          "evalue": "name 'images' is not defined",
          "traceback": [
            "\u001b[0;31m---------------------------------------------------------------------------\u001b[0m",
            "\u001b[0;31mNameError\u001b[0m                                 Traceback (most recent call last)",
            "\u001b[0;32m<ipython-input-3-53ed03512e4d>\u001b[0m in \u001b[0;36m<cell line: 4>\u001b[0;34m()\u001b[0m\n\u001b[1;32m      2\u001b[0m \u001b[0;34m\u001b[0m\u001b[0m\n\u001b[1;32m      3\u001b[0m \u001b[0;31m# División del conjunto de datos en entrenamiento, validación y prueba\u001b[0m\u001b[0;34m\u001b[0m\u001b[0;34m\u001b[0m\u001b[0m\n\u001b[0;32m----> 4\u001b[0;31m \u001b[0mX_train\u001b[0m\u001b[0;34m,\u001b[0m \u001b[0mX_temp\u001b[0m\u001b[0;34m,\u001b[0m \u001b[0my_train\u001b[0m\u001b[0;34m,\u001b[0m \u001b[0my_temp\u001b[0m \u001b[0;34m=\u001b[0m \u001b[0mtrain_test_split\u001b[0m\u001b[0;34m(\u001b[0m\u001b[0mimages\u001b[0m\u001b[0;34m,\u001b[0m \u001b[0mlabels\u001b[0m\u001b[0;34m,\u001b[0m \u001b[0mtest_size\u001b[0m\u001b[0;34m=\u001b[0m\u001b[0;36m0.3\u001b[0m\u001b[0;34m,\u001b[0m \u001b[0mrandom_state\u001b[0m\u001b[0;34m=\u001b[0m\u001b[0;36m42\u001b[0m\u001b[0;34m,\u001b[0m \u001b[0mstratify\u001b[0m\u001b[0;34m=\u001b[0m\u001b[0mlabels\u001b[0m\u001b[0;34m)\u001b[0m\u001b[0;34m\u001b[0m\u001b[0;34m\u001b[0m\u001b[0m\n\u001b[0m\u001b[1;32m      5\u001b[0m \u001b[0mX_val\u001b[0m\u001b[0;34m,\u001b[0m \u001b[0mX_test\u001b[0m\u001b[0;34m,\u001b[0m \u001b[0my_val\u001b[0m\u001b[0;34m,\u001b[0m \u001b[0my_test\u001b[0m \u001b[0;34m=\u001b[0m \u001b[0mtrain_test_split\u001b[0m\u001b[0;34m(\u001b[0m\u001b[0mX_temp\u001b[0m\u001b[0;34m,\u001b[0m \u001b[0my_temp\u001b[0m\u001b[0;34m,\u001b[0m \u001b[0mtest_size\u001b[0m\u001b[0;34m=\u001b[0m\u001b[0;36m0.33\u001b[0m\u001b[0;34m,\u001b[0m \u001b[0mrandom_state\u001b[0m\u001b[0;34m=\u001b[0m\u001b[0;36m42\u001b[0m\u001b[0;34m,\u001b[0m \u001b[0mstratify\u001b[0m\u001b[0;34m=\u001b[0m\u001b[0my_temp\u001b[0m\u001b[0;34m)\u001b[0m\u001b[0;34m\u001b[0m\u001b[0;34m\u001b[0m\u001b[0m\n\u001b[1;32m      6\u001b[0m \u001b[0;34m\u001b[0m\u001b[0m\n",
            "\u001b[0;31mNameError\u001b[0m: name 'images' is not defined"
          ]
        }
      ]
    },
    {
      "cell_type": "markdown",
      "source": [
        "##ENTRENAMIENTO"
      ],
      "metadata": {
        "id": "wtiSFy9e0ndG"
      }
    },
    {
      "cell_type": "code",
      "source": [
        "# Entrenar el modelo\n",
        "history = model.fit(\n",
        "    X_train, y_train,\n",
        "    epochs=20,\n",
        "    batch_size=32,\n",
        "    validation_data=(X_val, y_val),\n",
        "    callbacks=[tf.keras.callbacks.EarlyStopping(patience=5, restore_best_weights=True)]\n",
        ")\n",
        "\n",
        "# Guardar el modelo entrenado\n",
        "model.save('oct_model.h5')\n"
      ],
      "metadata": {
        "colab": {
          "base_uri": "https://localhost:8080/",
          "height": 211
        },
        "id": "cL5N0O4s0ori",
        "outputId": "29b29a9a-55ff-4c2f-9d69-ce5d15fe578b"
      },
      "execution_count": null,
      "outputs": [
        {
          "output_type": "error",
          "ename": "NameError",
          "evalue": "name 'X_train' is not defined",
          "traceback": [
            "\u001b[0;31m---------------------------------------------------------------------------\u001b[0m",
            "\u001b[0;31mNameError\u001b[0m                                 Traceback (most recent call last)",
            "\u001b[0;32m<ipython-input-2-1d2ba127877c>\u001b[0m in \u001b[0;36m<cell line: 2>\u001b[0;34m()\u001b[0m\n\u001b[1;32m      1\u001b[0m \u001b[0;31m# Entrenar el modelo\u001b[0m\u001b[0;34m\u001b[0m\u001b[0;34m\u001b[0m\u001b[0m\n\u001b[1;32m      2\u001b[0m history = model.fit(\n\u001b[0;32m----> 3\u001b[0;31m     \u001b[0mX_train\u001b[0m\u001b[0;34m,\u001b[0m \u001b[0my_train\u001b[0m\u001b[0;34m,\u001b[0m\u001b[0;34m\u001b[0m\u001b[0;34m\u001b[0m\u001b[0m\n\u001b[0m\u001b[1;32m      4\u001b[0m     \u001b[0mepochs\u001b[0m\u001b[0;34m=\u001b[0m\u001b[0;36m20\u001b[0m\u001b[0;34m,\u001b[0m\u001b[0;34m\u001b[0m\u001b[0;34m\u001b[0m\u001b[0m\n\u001b[1;32m      5\u001b[0m     \u001b[0mbatch_size\u001b[0m\u001b[0;34m=\u001b[0m\u001b[0;36m32\u001b[0m\u001b[0;34m,\u001b[0m\u001b[0;34m\u001b[0m\u001b[0;34m\u001b[0m\u001b[0m\n",
            "\u001b[0;31mNameError\u001b[0m: name 'X_train' is not defined"
          ]
        }
      ]
    }
  ],
  "metadata": {
    "accelerator": "GPU",
    "colab": {
      "gpuType": "T4",
      "provenance": [],
      "authorship_tag": "ABX9TyPekaPs2gjVp3Eb/YYdchCb",
      "include_colab_link": true
    },
    "kernelspec": {
      "display_name": "Python 3",
      "name": "python3"
    },
    "language_info": {
      "name": "python"
    }
  },
  "nbformat": 4,
  "nbformat_minor": 0
}